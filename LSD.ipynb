{
  "nbformat": 4,
  "nbformat_minor": 0,
  "metadata": {
    "colab": {
      "name": "Untitled0.ipynb",
      "provenance": [],
      "authorship_tag": "ABX9TyPEInCh6cTWfVH05p2b2AOI",
      "include_colab_link": true
    },
    "kernelspec": {
      "name": "python3",
      "display_name": "Python 3"
    }
  },
  "cells": [
    {
      "cell_type": "markdown",
      "metadata": {
        "id": "view-in-github",
        "colab_type": "text"
      },
      "source": [
        "<a href=\"https://colab.research.google.com/github/fishinvest/regression_code/blob/main/LSD.ipynb\" target=\"_parent\"><img src=\"https://colab.research.google.com/assets/colab-badge.svg\" alt=\"Open In Colab\"/></a>"
      ]
    },
    {
      "cell_type": "code",
      "metadata": {
        "id": "wwVY1wkzm1iq"
      },
      "source": [
        "import numpy as np\r\n",
        "from sklearn.linear_model import LinearRegression\r\n",
        "import pandas as pd"
      ],
      "execution_count": 2,
      "outputs": []
    },
    {
      "cell_type": "markdown",
      "metadata": {
        "id": "fayhkvFtm5tP"
      },
      "source": [
        "Next, we need to import our data"
      ]
    },
    {
      "cell_type": "code",
      "metadata": {
        "colab": {
          "base_uri": "https://localhost:8080/",
          "height": 266
        },
        "id": "UydgR7wNm-qm",
        "outputId": "269ea28c-1b3f-4541-9a4a-d337d15791d7"
      },
      "source": [
        "LSD_data = pd.read_csv('https://github.com/fishinvest/regression_code/blob/main/LSD/lsd.csv?raw=true')\r\n",
        "LSD_data"
      ],
      "execution_count": 11,
      "outputs": [
        {
          "output_type": "execute_result",
          "data": {
            "text/html": [
              "<div>\n",
              "<style scoped>\n",
              "    .dataframe tbody tr th:only-of-type {\n",
              "        vertical-align: middle;\n",
              "    }\n",
              "\n",
              "    .dataframe tbody tr th {\n",
              "        vertical-align: top;\n",
              "    }\n",
              "\n",
              "    .dataframe thead th {\n",
              "        text-align: right;\n",
              "    }\n",
              "</style>\n",
              "<table border=\"1\" class=\"dataframe\">\n",
              "  <thead>\n",
              "    <tr style=\"text-align: right;\">\n",
              "      <th></th>\n",
              "      <th>LSD_amount</th>\n",
              "      <th>Weight</th>\n",
              "      <th>Score</th>\n",
              "    </tr>\n",
              "  </thead>\n",
              "  <tbody>\n",
              "    <tr>\n",
              "      <th>0</th>\n",
              "      <td>1.17</td>\n",
              "      <td>162</td>\n",
              "      <td>78.93</td>\n",
              "    </tr>\n",
              "    <tr>\n",
              "      <th>1</th>\n",
              "      <td>2.97</td>\n",
              "      <td>155</td>\n",
              "      <td>58.20</td>\n",
              "    </tr>\n",
              "    <tr>\n",
              "      <th>2</th>\n",
              "      <td>3.26</td>\n",
              "      <td>170</td>\n",
              "      <td>67.47</td>\n",
              "    </tr>\n",
              "    <tr>\n",
              "      <th>3</th>\n",
              "      <td>4.69</td>\n",
              "      <td>140</td>\n",
              "      <td>37.47</td>\n",
              "    </tr>\n",
              "    <tr>\n",
              "      <th>4</th>\n",
              "      <td>5.83</td>\n",
              "      <td>190</td>\n",
              "      <td>45.65</td>\n",
              "    </tr>\n",
              "    <tr>\n",
              "      <th>5</th>\n",
              "      <td>6.00</td>\n",
              "      <td>165</td>\n",
              "      <td>32.92</td>\n",
              "    </tr>\n",
              "    <tr>\n",
              "      <th>6</th>\n",
              "      <td>6.41</td>\n",
              "      <td>168</td>\n",
              "      <td>29.97</td>\n",
              "    </tr>\n",
              "  </tbody>\n",
              "</table>\n",
              "</div>"
            ],
            "text/plain": [
              "   LSD_amount  Weight  Score\n",
              "0        1.17     162  78.93\n",
              "1        2.97     155  58.20\n",
              "2        3.26     170  67.47\n",
              "3        4.69     140  37.47\n",
              "4        5.83     190  45.65\n",
              "5        6.00     165  32.92\n",
              "6        6.41     168  29.97"
            ]
          },
          "metadata": {
            "tags": []
          },
          "execution_count": 11
        }
      ]
    },
    {
      "cell_type": "code",
      "metadata": {
        "id": "FS-wG8hboziJ"
      },
      "source": [
        "x = LSD_data[['LSD_amount']].to_numpy()\r\n",
        "y = LSD_data[['Score']].to_numpy()"
      ],
      "execution_count": 13,
      "outputs": []
    },
    {
      "cell_type": "code",
      "metadata": {
        "colab": {
          "base_uri": "https://localhost:8080/"
        },
        "id": "jKV66ynso_5_",
        "outputId": "7589fc4f-af3c-4612-f862-311317332e10"
      },
      "source": [
        "model = LinearRegression()\r\n",
        "model.fit(x,y)"
      ],
      "execution_count": 14,
      "outputs": [
        {
          "output_type": "execute_result",
          "data": {
            "text/plain": [
              "LinearRegression(copy_X=True, fit_intercept=True, n_jobs=None, normalize=False)"
            ]
          },
          "metadata": {
            "tags": []
          },
          "execution_count": 14
        }
      ]
    },
    {
      "cell_type": "code",
      "metadata": {
        "colab": {
          "base_uri": "https://localhost:8080/"
        },
        "id": "hU6fZppHpFsR",
        "outputId": "fa4af094-17cf-4d9d-bba1-8057230f19ba"
      },
      "source": [
        "# Grab the R^2 value\r\n",
        "r_squared = model.score(x,y)\r\n",
        "print(r_squared)\r\n",
        "\r\n",
        "# Grab the intercept, or the predicted amount if LSD=0\r\n",
        "intercept = model.intercept_.item(0)\r\n",
        "print(intercept)\r\n",
        "\r\n",
        "# Grab the coefficient on LSD_amount\r\n",
        "LSD_coef = model.coef_.item(0)\r\n",
        "print(LSD_coef)"
      ],
      "execution_count": 17,
      "outputs": [
        {
          "output_type": "stream",
          "text": [
            "0.8778349707775888\n",
            "89.12387376799305\n",
            "-9.009466415296782\n"
          ],
          "name": "stdout"
        }
      ]
    },
    {
      "cell_type": "code",
      "metadata": {
        "colab": {
          "base_uri": "https://localhost:8080/",
          "height": 266
        },
        "id": "tut7ou04px8E",
        "outputId": "74e15dc3-851f-4964-eeaa-98923f53dacb"
      },
      "source": [
        "LSD_data['predicted'] = intercept + LSD_coef * LSD_data['LSD_amount']\r\n",
        "LSD_data['residual'] = LSD_data['Score'] - LSD_data['predicted']\r\n",
        "\r\n",
        "LSD_data"
      ],
      "execution_count": 22,
      "outputs": [
        {
          "output_type": "execute_result",
          "data": {
            "text/html": [
              "<div>\n",
              "<style scoped>\n",
              "    .dataframe tbody tr th:only-of-type {\n",
              "        vertical-align: middle;\n",
              "    }\n",
              "\n",
              "    .dataframe tbody tr th {\n",
              "        vertical-align: top;\n",
              "    }\n",
              "\n",
              "    .dataframe thead th {\n",
              "        text-align: right;\n",
              "    }\n",
              "</style>\n",
              "<table border=\"1\" class=\"dataframe\">\n",
              "  <thead>\n",
              "    <tr style=\"text-align: right;\">\n",
              "      <th></th>\n",
              "      <th>LSD_amount</th>\n",
              "      <th>Weight</th>\n",
              "      <th>Score</th>\n",
              "      <th>predicted</th>\n",
              "      <th>residual</th>\n",
              "    </tr>\n",
              "  </thead>\n",
              "  <tbody>\n",
              "    <tr>\n",
              "      <th>0</th>\n",
              "      <td>1.17</td>\n",
              "      <td>162</td>\n",
              "      <td>78.93</td>\n",
              "      <td>78.582798</td>\n",
              "      <td>0.347202</td>\n",
              "    </tr>\n",
              "    <tr>\n",
              "      <th>1</th>\n",
              "      <td>2.97</td>\n",
              "      <td>155</td>\n",
              "      <td>58.20</td>\n",
              "      <td>62.365759</td>\n",
              "      <td>-4.165759</td>\n",
              "    </tr>\n",
              "    <tr>\n",
              "      <th>2</th>\n",
              "      <td>3.26</td>\n",
              "      <td>170</td>\n",
              "      <td>67.47</td>\n",
              "      <td>59.753013</td>\n",
              "      <td>7.716987</td>\n",
              "    </tr>\n",
              "    <tr>\n",
              "      <th>3</th>\n",
              "      <td>4.69</td>\n",
              "      <td>140</td>\n",
              "      <td>37.47</td>\n",
              "      <td>46.869476</td>\n",
              "      <td>-9.399476</td>\n",
              "    </tr>\n",
              "    <tr>\n",
              "      <th>4</th>\n",
              "      <td>5.83</td>\n",
              "      <td>190</td>\n",
              "      <td>45.65</td>\n",
              "      <td>36.598685</td>\n",
              "      <td>9.051315</td>\n",
              "    </tr>\n",
              "    <tr>\n",
              "      <th>5</th>\n",
              "      <td>6.00</td>\n",
              "      <td>165</td>\n",
              "      <td>32.92</td>\n",
              "      <td>35.067075</td>\n",
              "      <td>-2.147075</td>\n",
              "    </tr>\n",
              "    <tr>\n",
              "      <th>6</th>\n",
              "      <td>6.41</td>\n",
              "      <td>168</td>\n",
              "      <td>29.97</td>\n",
              "      <td>31.373194</td>\n",
              "      <td>-1.403194</td>\n",
              "    </tr>\n",
              "  </tbody>\n",
              "</table>\n",
              "</div>"
            ],
            "text/plain": [
              "   LSD_amount  Weight  Score  predicted  residual\n",
              "0        1.17     162  78.93  78.582798  0.347202\n",
              "1        2.97     155  58.20  62.365759 -4.165759\n",
              "2        3.26     170  67.47  59.753013  7.716987\n",
              "3        4.69     140  37.47  46.869476 -9.399476\n",
              "4        5.83     190  45.65  36.598685  9.051315\n",
              "5        6.00     165  32.92  35.067075 -2.147075\n",
              "6        6.41     168  29.97  31.373194 -1.403194"
            ]
          },
          "metadata": {
            "tags": []
          },
          "execution_count": 22
        }
      ]
    },
    {
      "cell_type": "code",
      "metadata": {
        "colab": {
          "base_uri": "https://localhost:8080/",
          "height": 266
        },
        "id": "HJ23e1qzqGql",
        "outputId": "f45b51fc-e5bd-4e85-90c5-4ffb7dc3965d"
      },
      "source": [
        "x = LSD_data[['LSD_amount', 'Weight']].to_numpy()\r\n",
        "\r\n",
        "model = LinearRegression().fit(x,y)\r\n",
        "r_squared = model.score(x,y)\r\n",
        "intercept = model.intercept_.item(0)\r\n",
        "LSD_coef = model.coef_.item(0)\r\n",
        "weight_coef = model.coef_.item(1)\r\n",
        "\r\n",
        "LSD_data['predicted'] = intercept + LSD_coef * LSD_data['LSD_amount'] + weight_coef * LSD_data['Weight']\r\n",
        "LSD_data['residual'] = LSD_data['Score'] - LSD_data['predicted']\r\n",
        "LSD_data"
      ],
      "execution_count": 27,
      "outputs": [
        {
          "output_type": "execute_result",
          "data": {
            "text/html": [
              "<div>\n",
              "<style scoped>\n",
              "    .dataframe tbody tr th:only-of-type {\n",
              "        vertical-align: middle;\n",
              "    }\n",
              "\n",
              "    .dataframe tbody tr th {\n",
              "        vertical-align: top;\n",
              "    }\n",
              "\n",
              "    .dataframe thead th {\n",
              "        text-align: right;\n",
              "    }\n",
              "</style>\n",
              "<table border=\"1\" class=\"dataframe\">\n",
              "  <thead>\n",
              "    <tr style=\"text-align: right;\">\n",
              "      <th></th>\n",
              "      <th>LSD_amount</th>\n",
              "      <th>Weight</th>\n",
              "      <th>Score</th>\n",
              "      <th>predicted</th>\n",
              "      <th>residual</th>\n",
              "    </tr>\n",
              "  </thead>\n",
              "  <tbody>\n",
              "    <tr>\n",
              "      <th>0</th>\n",
              "      <td>1.17</td>\n",
              "      <td>162</td>\n",
              "      <td>78.93</td>\n",
              "      <td>80.741744</td>\n",
              "      <td>-1.811744</td>\n",
              "    </tr>\n",
              "    <tr>\n",
              "      <th>1</th>\n",
              "      <td>2.97</td>\n",
              "      <td>155</td>\n",
              "      <td>58.20</td>\n",
              "      <td>59.782322</td>\n",
              "      <td>-1.582322</td>\n",
              "    </tr>\n",
              "    <tr>\n",
              "      <th>2</th>\n",
              "      <td>3.26</td>\n",
              "      <td>170</td>\n",
              "      <td>67.47</td>\n",
              "      <td>63.232376</td>\n",
              "      <td>4.237624</td>\n",
              "    </tr>\n",
              "    <tr>\n",
              "      <th>3</th>\n",
              "      <td>4.69</td>\n",
              "      <td>140</td>\n",
              "      <td>37.47</td>\n",
              "      <td>36.236355</td>\n",
              "      <td>1.233645</td>\n",
              "    </tr>\n",
              "    <tr>\n",
              "      <th>4</th>\n",
              "      <td>5.83</td>\n",
              "      <td>190</td>\n",
              "      <td>45.65</td>\n",
              "      <td>46.003556</td>\n",
              "      <td>-0.353556</td>\n",
              "    </tr>\n",
              "    <tr>\n",
              "      <th>5</th>\n",
              "      <td>6.00</td>\n",
              "      <td>165</td>\n",
              "      <td>32.92</td>\n",
              "      <td>33.721461</td>\n",
              "      <td>-0.801461</td>\n",
              "    </tr>\n",
              "    <tr>\n",
              "      <th>6</th>\n",
              "      <td>6.41</td>\n",
              "      <td>168</td>\n",
              "      <td>29.97</td>\n",
              "      <td>30.892187</td>\n",
              "      <td>-0.922187</td>\n",
              "    </tr>\n",
              "  </tbody>\n",
              "</table>\n",
              "</div>"
            ],
            "text/plain": [
              "   LSD_amount  Weight  Score  predicted  residual\n",
              "0        1.17     162  78.93  80.741744 -1.811744\n",
              "1        2.97     155  58.20  59.782322 -1.582322\n",
              "2        3.26     170  67.47  63.232376  4.237624\n",
              "3        4.69     140  37.47  36.236355  1.233645\n",
              "4        5.83     190  45.65  46.003556 -0.353556\n",
              "5        6.00     165  32.92  33.721461 -0.801461\n",
              "6        6.41     168  29.97  30.892187 -0.922187"
            ]
          },
          "metadata": {
            "tags": []
          },
          "execution_count": 27
        }
      ]
    }
  ]
}